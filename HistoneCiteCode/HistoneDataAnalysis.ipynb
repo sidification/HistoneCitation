{
 "cells": [
  {
   "cell_type": "markdown",
   "metadata": {},
   "source": [
    "# Histone Citation Data : Calculating Co-Citation Frequencies\n",
    "***\n",
    "## Introduction\n",
    "The aim of this assignment is to calculate co-citation frequencies of all cited papers that were obtained after matching PubMed journal articles data for the search term 'histones' from for the years 1980 to 1990 (both inclusive) with open_citations data as found in Valhalla.<br>\n",
    "<br>\n",
    "The resulting csv file containing 'citing' and 'cited' information has been used as a starting point for this assignment. The following are some key features of this input file:<br>\n",
    "    1. Total of rows: 87,332 (each row represents a 'citing' - 'cited' pair)<br>\n",
    "    2. Total number of unique citing papers: 5,008<br>\n",
    "    3. Total number of unique cited papers: 33,566<br>\n",
    "    4. There are 5 columns : 'n', 'pmid', pub_year', 'doi', 'cited'<br>\n",
    "\n",
    "### Import Libraries\n"
   ]
  },
  {
   "cell_type": "code",
   "execution_count": 17,
   "metadata": {},
   "outputs": [],
   "source": [
    "import pandas as pd\n",
    "from itertools import combinations\n",
    "import csv\n",
    "import sys\n",
    "import matplotlib.pyplot as plt"
   ]
  },
  {
   "cell_type": "code",
   "execution_count": 2,
   "metadata": {},
   "outputs": [],
   "source": [
    "#this code cell will read the csv file that contains 'citing' and 'cited' information\n",
    "df1 = pd.read_csv('/Users/sidahuja/Dev/HistoneCitation/HistoneCiteCode/pubmed-oc-data.csv')"
   ]
  },
  {
   "cell_type": "markdown",
   "metadata": {},
   "source": [
    "### Create 'cited' lists for each citation\n",
    "\n",
    "The dataframe from the last step will need to be processed such that each row contains a list of 'cited' papers for every 'citing' paper.<br>\n",
    "The 'groupby' function in Pandas will be used to accomplish this. Since 'groupby' needs strings to carry out the grouping of 'cited' cells, the 'NaN' values (which is inherently a float value) will need to be replaced by ' ' (empty string). apply(list) method will then convert the result of cited grouping into lists. "
   ]
  },
  {
   "cell_type": "code",
   "execution_count": 8,
   "metadata": {},
   "outputs": [],
   "source": [
    "df2 = df1.fillna('')\n",
    "df3 = df2.groupby(['doi'])['cited'].apply(list)"
   ]
  },
  {
   "cell_type": "code",
   "execution_count": 9,
   "metadata": {},
   "outputs": [],
   "source": [
    "#convert df3 from 'series' type to dataframe by using reset_index()\n",
    "df4 = df3.reset_index()"
   ]
  },
  {
   "cell_type": "markdown",
   "metadata": {},
   "source": [
    "### Main analysis\n",
    "\n",
    "At this stage, initiate an empty dictionary. This dictionary will evenutally store the (key, value) pairs for which 'key' will co-citation pairs, and 'value' will\n",
    "be the co-citation frequency of the corresponding pair."
   ]
  },
  {
   "cell_type": "code",
   "execution_count": 10,
   "metadata": {},
   "outputs": [],
   "source": [
    "cited_dict = {}"
   ]
  },
  {
   "cell_type": "markdown",
   "metadata": {},
   "source": [
    "The following code cell describes the process of creating 'key-value' pairs in the dictionary. "
   ]
  },
  {
   "cell_type": "code",
   "execution_count": 11,
   "metadata": {},
   "outputs": [],
   "source": [
    "#iterate through values of the cited column. each value is a list of cited papers for a particular citation. Ignore empty lists.\n",
    "for values in df4['cited']:\n",
    "    if values != ['']:\n",
    "        for elements in list(combinations(values, 2)):             #elements will be each tuple containing a pair of co-cited papers.\n",
    "            elements = tuple(sorted(elements))                      #sort the tuple so that tuple(B, A) will be counted as tuple(A, B)\n",
    "            if elements in cited_dict:\n",
    "                cited_dict[elements] += 1\n",
    "            else:\n",
    "                cited_dict[elements] = 1                      "
   ]
  },
  {
   "cell_type": "markdown",
   "metadata": {},
   "source": [
    "### Pandas Dataframe from Dictionary\n",
    "\n",
    "Review the dictionary. \n",
    "\n",
    "Create a pandas dataframe for the dictionary, and sort the dataframe by co-citation frequency. "
   ]
  },
  {
   "cell_type": "code",
   "execution_count": 12,
   "metadata": {},
   "outputs": [],
   "source": [
    "co_cited_df = pd.DataFrame(cited_dict.items(), columns=['co-cited pairs', 'co-citation freq'])\n",
    "co_cited_df.sort_values(by=['co-citation freq'], inplace=True, ascending=False)"
   ]
  },
  {
   "cell_type": "markdown",
   "metadata": {},
   "source": [
    "Print first few lines of the dataframe, to check for accuracy. "
   ]
  },
  {
   "cell_type": "code",
   "execution_count": 51,
   "metadata": {},
   "outputs": [
    {
     "name": "stdout",
     "output_type": "stream",
     "text": [
      "                                          co-cited pairs  co-citation freq\n",
      "16495  (10.1016/s0021-9258(19)52451-6, 10.1038/227680a0)               155\n",
      "27137   (10.1016/0003-9861(69)90042-3, 10.1038/227680a0)               117\n",
      "50781   (10.1016/0003-2697(76)90527-3, 10.1038/227680a0)                73\n",
      "13778  (10.1038/227680a0, 10.1146/annurev.bi.49.07018...                70\n",
      "13768           (10.1038/227680a0, 10.1083/jcb.83.2.403)                64\n",
      "12552  (10.1038/271115a0, 10.1146/annurev.bi.46.07017...                64\n",
      "77481  (10.1016/0003-9861(69)90042-3, 10.1016/s0021-9...                60\n",
      "6403   (10.1146/annurev.bi.48.070179.001111, 10.1146/...                59\n",
      "16450  (10.1016/s0021-9258(19)52451-6, 10.1042/bj0620...                59\n",
      "27149  (10.1038/227680a0, 10.1146/annurev.bi.48.07017...                55\n"
     ]
    },
    {
     "data": {
      "text/plain": [
       "<bound method DataFrame.info of                                             co-cited pairs  co-citation freq\n",
       "16495    (10.1016/s0021-9258(19)52451-6, 10.1038/227680a0)               155\n",
       "27137     (10.1016/0003-9861(69)90042-3, 10.1038/227680a0)               117\n",
       "50781     (10.1016/0003-2697(76)90527-3, 10.1038/227680a0)                73\n",
       "13778    (10.1038/227680a0, 10.1146/annurev.bi.49.07018...                70\n",
       "13768             (10.1038/227680a0, 10.1083/jcb.83.2.403)                64\n",
       "...                                                    ...               ...\n",
       "799955   (10.1016/s0021-9258(17)39395-x, 10.1016/s0021-...                 1\n",
       "799954   (10.1016/s0021-9258(18)33268-x, 10.1016/s0021-...                 1\n",
       "799953   (10.1016/s0021-9258(18)33268-x, 10.1016/s0021-...                 1\n",
       "799952   (10.1016/s0021-9258(18)33268-x, 10.1016/s0021-...                 1\n",
       "2171930  (10.1016/s0021-9258(17)40146-3, 10.1016/s0021-...                 1\n",
       "\n",
       "[2171931 rows x 2 columns]>"
      ]
     },
     "execution_count": 51,
     "metadata": {},
     "output_type": "execute_result"
    }
   ],
   "source": [
    "print(co_cited_df.head(10))\n",
    "co_cited_df.info"
   ]
  },
  {
   "cell_type": "markdown",
   "metadata": {},
   "source": [
    "### Counting co-cited pairs\n",
    "\n",
    "Now count the number of co-cited pairs for each frequency. This is done using the 'count' function. "
   ]
  },
  {
   "cell_type": "code",
   "execution_count": 14,
   "metadata": {},
   "outputs": [
    {
     "name": "stdout",
     "output_type": "stream",
     "text": [
      "    co-citation freq  co-cited pairs\n",
      "0                  1         1986639\n",
      "1                  2          130054\n",
      "2                  3           30775\n",
      "3                  4           11498\n",
      "4                  5            5299\n",
      "5                  6            2750\n",
      "6                  7            1620\n",
      "7                  8            1005\n",
      "8                  9             656\n",
      "9                 10             408\n",
      "10                11             308\n",
      "11                12             199\n",
      "12                13             172\n",
      "13                14             117\n",
      "14                15              77\n",
      "15                16              67\n",
      "16                17              44\n",
      "17                18              32\n",
      "18                19              28\n",
      "19                20              19\n",
      "20                21              19\n",
      "21                22              21\n",
      "22                23              18\n",
      "23                24              18\n",
      "24                25              10\n",
      "25                26               4\n",
      "26                27              11\n",
      "27                28               5\n",
      "28                29               6\n",
      "29                30               4\n",
      "30                31               2\n",
      "31                32               5\n",
      "32                33               4\n",
      "33                34               5\n",
      "34                35               2\n",
      "35                36               1\n",
      "36                37               1\n",
      "37                38               2\n",
      "38                39               2\n",
      "39                40               2\n",
      "40                41               2\n",
      "41                42               1\n",
      "42                43               1\n",
      "43                44               1\n",
      "44                45               1\n",
      "45                46               1\n",
      "46                47               2\n",
      "47                48               1\n",
      "48                53               2\n",
      "49                55               1\n",
      "50                59               2\n",
      "51                60               1\n",
      "52                64               2\n",
      "53                70               1\n",
      "54                73               1\n",
      "55               117               1\n",
      "56               155               1\n"
     ]
    }
   ],
   "source": [
    "co_cited_pair_freq_df = co_cited_df.groupby(['co-citation freq'], as_index=False)['co-cited pairs'].count()\n",
    "print(co_cited_pair_freq_df)"
   ]
  },
  {
   "cell_type": "markdown",
   "metadata": {},
   "source": [
    "### Plotting graph for co-cited pairs and co-cited frequencies"
   ]
  },
  {
   "cell_type": "code",
   "execution_count": 50,
   "metadata": {},
   "outputs": [
    {
     "data": {
      "image/png": "[encoded data removed]",
      "text/plain": [
       "<Figure size 1080x504 with 1 Axes>"
      ]
     },
     "metadata": {
      "needs_background": "light"
     },
     "output_type": "display_data"
    }
   ],
   "source": [
    "co_cited_plot = co_cited_pair_freq_df.plot.scatter(x='co-citation freq', y='co-cited pairs', marker='o', color='green', s=20)\n",
    "plt.title('Co-Cited Pairs and Corresponding Frequencies')\n",
    "plt.rcParams[\"figure.figsize\"] = (15, 7)\n",
    "plt.yscale('log')\n",
    "plt.savefig('co-citation-freq.png')\n"
   ]
  },
  {
   "cell_type": "markdown",
   "metadata": {},
   "source": [
    "## Conclusions\n",
    "\n",
    "As seen in the graph above, there exists a logarithmic type relationship between 'co-cited pairs' and 'co-citation frequeny'. This finding matches the anticipated outcomes as very few papers have high co-citation frequency. In fact, out of the total 2,171,931 possible co-cited pairs, only 12 pairs have co-citation frquencies of more than 50. In fact, 1,986,639 co-cited pairs occur only once (in the citing paper). <br>\n",
    "\n",
    "The most co-cited pair in the analysis was:<br>\n",
    "\n",
    "***(10.1016/s0021-9258(19)52451-6, 10.1038/227680a0)*** <br>\n",
    "\n",
    "where, <br>\n",
    "<br>\n",
    "10.1016/s0021-9258(19)52451-6: \"Protein Measurement with Folin-Phenol Reagent\" (Journal Article published Nov 1951 in Journal of Biological Chemistry volume 193 issue 1 on pages 265 to 275) <br>\n",
    "10.1038/227680a0: \"Cleavage of Structural Proteins during the Assembly of the Head of Bacteriophage T4\" (Journal Article published Aug 1970 in Nature volume 227 issue 5259 on pages 680 to 685).<br> \n",
    "<br>\n",
    "As to why these two particular papers have been co-cited the most is a topic best to be discussed with a biologist. From my first glance however it looks like both papers talk about proteins - one talks about measurement and another focusses on the 'cleavage' of structural proteins. \n",
    "<br>\n",
    "\n",
    "\n",
    "\n",
    "\n",
    "\n",
    "\n",
    "\n",
    "\n"
   ]
  }
 ],
 "metadata": {
  "kernelspec": {
   "display_name": "Python 3.10.1 ('HistoneCiteVenv': venv)",
   "language": "python",
   "name": "python3"
  },
  "language_info": {
   "codemirror_mode": {
    "name": "ipython",
    "version": 3
   },
   "file_extension": ".py",
   "mimetype": "text/x-python",
   "name": "python",
   "nbconvert_exporter": "python",
   "pygments_lexer": "ipython3",
   "version": "3.10.1"
  },
  "orig_nbformat": 4,
  "vscode": {
   "interpreter": {
    "hash": "be5b9af405168954d68d0dbdbd232bc0721a6656bce467722203c8f69c29066d"
   }
  }
 },
 "nbformat": 4,
 "nbformat_minor": 2
}
